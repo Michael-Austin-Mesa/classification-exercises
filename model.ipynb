{
 "cells": [
  {
   "cell_type": "markdown",
   "id": "d6c1dc77",
   "metadata": {},
   "source": [
    "# Decision Trees Exercises"
   ]
  },
  {
   "cell_type": "code",
   "execution_count": 1,
   "id": "51f846c4",
   "metadata": {},
   "outputs": [],
   "source": [
    "#general DS imports\n",
    "import matplotlib.pyplot as plt\n",
    "import numpy as np\n",
    "import pandas as pd\n",
    "import seaborn as sns\n",
    "import env\n",
    "import acquire\n",
    "import prepare"
   ]
  },
  {
   "cell_type": "code",
   "execution_count": 2,
   "id": "05372d15",
   "metadata": {},
   "outputs": [],
   "source": [
    "#decisions tree and model eval imports\n",
    "from sklearn.tree import DecisionTreeClassifier, plot_tree, export_text\n",
    "from sklearn.model_selection import train_test_split\n",
    "from sklearn.metrics import classification_report, confusion_matrix, plot_confusion_matrix"
   ]
  },
  {
   "cell_type": "code",
   "execution_count": 3,
   "id": "d1ab9819",
   "metadata": {},
   "outputs": [],
   "source": [
    "#get titanic dataset using acquire.py file\n",
    "#acquire.get_titanic_data()"
   ]
  },
  {
   "cell_type": "markdown",
   "id": "9d7462b9",
   "metadata": {},
   "source": [
    "# Titanic data\n",
    "\n",
    "# Question: Can we predict how many passengers boarded the Titanic alone based on the Titanic data?"
   ]
  },
  {
   "cell_type": "markdown",
   "id": "025dd534",
   "metadata": {},
   "source": [
    "> Baseline Prediction: Every person who boarded the Titanic was alone.\n",
    "\n"
   ]
  },
  {
   "cell_type": "code",
   "execution_count": 4,
   "id": "76cc6e27",
   "metadata": {},
   "outputs": [],
   "source": [
    "np.random.seed(123)\n",
    "titanic = acquire.get_titanic_data()\n",
    "titanic = prepare.clean_titanic_data(titanic)\n",
    "titanic['alone'] = titanic['alone'].astype('bool').astype('str')\n",
    "#titanic = prepare.clean_titanic_data(titanic)"
   ]
  },
  {
   "cell_type": "code",
   "execution_count": 5,
   "id": "3187e4bb",
   "metadata": {
    "scrolled": true
   },
   "outputs": [
    {
     "data": {
      "text/html": [
       "<div>\n",
       "<style scoped>\n",
       "    .dataframe tbody tr th:only-of-type {\n",
       "        vertical-align: middle;\n",
       "    }\n",
       "\n",
       "    .dataframe tbody tr th {\n",
       "        vertical-align: top;\n",
       "    }\n",
       "\n",
       "    .dataframe thead th {\n",
       "        text-align: right;\n",
       "    }\n",
       "</style>\n",
       "<table border=\"1\" class=\"dataframe\">\n",
       "  <thead>\n",
       "    <tr style=\"text-align: right;\">\n",
       "      <th></th>\n",
       "      <th>survived</th>\n",
       "      <th>pclass</th>\n",
       "      <th>sex</th>\n",
       "      <th>age</th>\n",
       "      <th>sibsp</th>\n",
       "      <th>parch</th>\n",
       "      <th>fare</th>\n",
       "      <th>embark_town</th>\n",
       "      <th>alone</th>\n",
       "      <th>sex_male</th>\n",
       "      <th>embark_town_Queenstown</th>\n",
       "      <th>embark_town_Southampton</th>\n",
       "    </tr>\n",
       "  </thead>\n",
       "  <tbody>\n",
       "    <tr>\n",
       "      <th>0</th>\n",
       "      <td>0</td>\n",
       "      <td>3</td>\n",
       "      <td>male</td>\n",
       "      <td>22.0</td>\n",
       "      <td>1</td>\n",
       "      <td>0</td>\n",
       "      <td>7.2500</td>\n",
       "      <td>Southampton</td>\n",
       "      <td>False</td>\n",
       "      <td>1</td>\n",
       "      <td>0</td>\n",
       "      <td>1</td>\n",
       "    </tr>\n",
       "    <tr>\n",
       "      <th>1</th>\n",
       "      <td>1</td>\n",
       "      <td>1</td>\n",
       "      <td>female</td>\n",
       "      <td>38.0</td>\n",
       "      <td>1</td>\n",
       "      <td>0</td>\n",
       "      <td>71.2833</td>\n",
       "      <td>Cherbourg</td>\n",
       "      <td>False</td>\n",
       "      <td>0</td>\n",
       "      <td>0</td>\n",
       "      <td>0</td>\n",
       "    </tr>\n",
       "    <tr>\n",
       "      <th>2</th>\n",
       "      <td>1</td>\n",
       "      <td>3</td>\n",
       "      <td>female</td>\n",
       "      <td>26.0</td>\n",
       "      <td>0</td>\n",
       "      <td>0</td>\n",
       "      <td>7.9250</td>\n",
       "      <td>Southampton</td>\n",
       "      <td>True</td>\n",
       "      <td>0</td>\n",
       "      <td>0</td>\n",
       "      <td>1</td>\n",
       "    </tr>\n",
       "    <tr>\n",
       "      <th>3</th>\n",
       "      <td>1</td>\n",
       "      <td>1</td>\n",
       "      <td>female</td>\n",
       "      <td>35.0</td>\n",
       "      <td>1</td>\n",
       "      <td>0</td>\n",
       "      <td>53.1000</td>\n",
       "      <td>Southampton</td>\n",
       "      <td>False</td>\n",
       "      <td>0</td>\n",
       "      <td>0</td>\n",
       "      <td>1</td>\n",
       "    </tr>\n",
       "    <tr>\n",
       "      <th>4</th>\n",
       "      <td>0</td>\n",
       "      <td>3</td>\n",
       "      <td>male</td>\n",
       "      <td>35.0</td>\n",
       "      <td>0</td>\n",
       "      <td>0</td>\n",
       "      <td>8.0500</td>\n",
       "      <td>Southampton</td>\n",
       "      <td>True</td>\n",
       "      <td>1</td>\n",
       "      <td>0</td>\n",
       "      <td>1</td>\n",
       "    </tr>\n",
       "  </tbody>\n",
       "</table>\n",
       "</div>"
      ],
      "text/plain": [
       "   survived  pclass     sex   age  sibsp  parch     fare  embark_town  alone  \\\n",
       "0         0       3    male  22.0      1      0   7.2500  Southampton  False   \n",
       "1         1       1  female  38.0      1      0  71.2833    Cherbourg  False   \n",
       "2         1       3  female  26.0      0      0   7.9250  Southampton   True   \n",
       "3         1       1  female  35.0      1      0  53.1000  Southampton  False   \n",
       "4         0       3    male  35.0      0      0   8.0500  Southampton   True   \n",
       "\n",
       "   sex_male  embark_town_Queenstown  embark_town_Southampton  \n",
       "0         1                       0                        1  \n",
       "1         0                       0                        0  \n",
       "2         0                       0                        1  \n",
       "3         0                       0                        1  \n",
       "4         1                       0                        1  "
      ]
     },
     "execution_count": 5,
     "metadata": {},
     "output_type": "execute_result"
    }
   ],
   "source": [
    "titanic.head()"
   ]
  },
  {
   "cell_type": "code",
   "execution_count": 6,
   "id": "9fe8e035",
   "metadata": {},
   "outputs": [],
   "source": [
    "#titanic = pd.get_dummies(titanic, columns=['sex','class','alive'], drop_first=True)\n",
    "#titanic.head()"
   ]
  },
  {
   "cell_type": "code",
   "execution_count": 7,
   "id": "2d26c771",
   "metadata": {},
   "outputs": [],
   "source": [
    "x = titanic[['survived','sex_male', 'fare','pclass', 'embark_town_Queenstown','embark_town_Southampton']]\n",
    "y = titanic.alone\n",
    "\n",
    "x_train_and_validate, x_test, y_train_and_validate, y_test = train_test_split(x,y, random_state=123, test_size=.3)\n",
    "x_train, x_validate, y_train, y_validate = train_test_split(x_train_and_validate, y_train_and_validate, random_state=123, test_size=.2)"
   ]
  },
  {
   "cell_type": "code",
   "execution_count": 8,
   "id": "8be2b9ec",
   "metadata": {},
   "outputs": [
    {
     "data": {
      "text/html": [
       "<div>\n",
       "<style scoped>\n",
       "    .dataframe tbody tr th:only-of-type {\n",
       "        vertical-align: middle;\n",
       "    }\n",
       "\n",
       "    .dataframe tbody tr th {\n",
       "        vertical-align: top;\n",
       "    }\n",
       "\n",
       "    .dataframe thead th {\n",
       "        text-align: right;\n",
       "    }\n",
       "</style>\n",
       "<table border=\"1\" class=\"dataframe\">\n",
       "  <thead>\n",
       "    <tr style=\"text-align: right;\">\n",
       "      <th></th>\n",
       "      <th>survived</th>\n",
       "      <th>sex_male</th>\n",
       "      <th>fare</th>\n",
       "      <th>pclass</th>\n",
       "      <th>embark_town_Queenstown</th>\n",
       "      <th>embark_town_Southampton</th>\n",
       "    </tr>\n",
       "  </thead>\n",
       "  <tbody>\n",
       "    <tr>\n",
       "      <th>456</th>\n",
       "      <td>0</td>\n",
       "      <td>1</td>\n",
       "      <td>26.5500</td>\n",
       "      <td>1</td>\n",
       "      <td>0</td>\n",
       "      <td>1</td>\n",
       "    </tr>\n",
       "    <tr>\n",
       "      <th>8</th>\n",
       "      <td>1</td>\n",
       "      <td>0</td>\n",
       "      <td>11.1333</td>\n",
       "      <td>3</td>\n",
       "      <td>0</td>\n",
       "      <td>1</td>\n",
       "    </tr>\n",
       "    <tr>\n",
       "      <th>19</th>\n",
       "      <td>1</td>\n",
       "      <td>0</td>\n",
       "      <td>7.2250</td>\n",
       "      <td>3</td>\n",
       "      <td>0</td>\n",
       "      <td>0</td>\n",
       "    </tr>\n",
       "    <tr>\n",
       "      <th>95</th>\n",
       "      <td>0</td>\n",
       "      <td>1</td>\n",
       "      <td>8.0500</td>\n",
       "      <td>3</td>\n",
       "      <td>0</td>\n",
       "      <td>1</td>\n",
       "    </tr>\n",
       "    <tr>\n",
       "      <th>86</th>\n",
       "      <td>0</td>\n",
       "      <td>1</td>\n",
       "      <td>34.3750</td>\n",
       "      <td>3</td>\n",
       "      <td>0</td>\n",
       "      <td>1</td>\n",
       "    </tr>\n",
       "  </tbody>\n",
       "</table>\n",
       "</div>"
      ],
      "text/plain": [
       "     survived  sex_male     fare  pclass  embark_town_Queenstown  \\\n",
       "456         0         1  26.5500       1                       0   \n",
       "8           1         0  11.1333       3                       0   \n",
       "19          1         0   7.2250       3                       0   \n",
       "95          0         1   8.0500       3                       0   \n",
       "86          0         1  34.3750       3                       0   \n",
       "\n",
       "     embark_town_Southampton  \n",
       "456                        1  \n",
       "8                          1  \n",
       "19                         0  \n",
       "95                         1  \n",
       "86                         1  "
      ]
     },
     "execution_count": 8,
     "metadata": {},
     "output_type": "execute_result"
    }
   ],
   "source": [
    "x_train.head()"
   ]
  },
  {
   "cell_type": "code",
   "execution_count": 9,
   "id": "eb6606cd",
   "metadata": {},
   "outputs": [
    {
     "data": {
      "text/plain": [
       "456     True\n",
       "8      False\n",
       "19      True\n",
       "95      True\n",
       "86     False\n",
       "Name: alone, dtype: object"
      ]
     },
     "execution_count": 9,
     "metadata": {},
     "output_type": "execute_result"
    }
   ],
   "source": [
    "y_train[:5]"
   ]
  },
  {
   "cell_type": "code",
   "execution_count": 10,
   "id": "19fbb3ee",
   "metadata": {},
   "outputs": [
    {
     "data": {
      "text/plain": [
       "True     309\n",
       "False    189\n",
       "Name: alone, dtype: int64"
      ]
     },
     "execution_count": 10,
     "metadata": {},
     "output_type": "execute_result"
    }
   ],
   "source": [
    "y_train.value_counts()"
   ]
  },
  {
   "cell_type": "markdown",
   "id": "d871b0e5",
   "metadata": {},
   "source": [
    "> Baseline Accuray: 309 Actual True / 498 Baseline True\n",
    "\n",
    "> Accuracy = 62%"
   ]
  },
  {
   "cell_type": "markdown",
   "id": "ef5a7dd3",
   "metadata": {},
   "source": [
    "## Decision Tree Modeling"
   ]
  },
  {
   "cell_type": "code",
   "execution_count": 11,
   "id": "2090ed0b",
   "metadata": {},
   "outputs": [],
   "source": [
    "tree = DecisionTreeClassifier(max_depth = 3)"
   ]
  },
  {
   "cell_type": "code",
   "execution_count": 12,
   "id": "99847227",
   "metadata": {},
   "outputs": [
    {
     "name": "stdout",
     "output_type": "stream",
     "text": [
      "|--- fare <= 13.68\n",
      "|   |--- pclass <= 2.50\n",
      "|   |   |--- class: True\n",
      "|   |--- pclass >  2.50\n",
      "|   |   |--- fare <= 10.82\n",
      "|   |   |   |--- class: True\n",
      "|   |   |--- fare >  10.82\n",
      "|   |   |   |--- class: False\n",
      "|--- fare >  13.68\n",
      "|   |--- pclass <= 1.50\n",
      "|   |   |--- fare <= 50.99\n",
      "|   |   |   |--- class: True\n",
      "|   |   |--- fare >  50.99\n",
      "|   |   |   |--- class: False\n",
      "|   |--- pclass >  1.50\n",
      "|   |   |--- sex_male <= 0.50\n",
      "|   |   |   |--- class: False\n",
      "|   |   |--- sex_male >  0.50\n",
      "|   |   |   |--- class: False\n",
      "\n"
     ]
    }
   ],
   "source": [
    "tree.fit(x_train, y_train)\n",
    "\n",
    "print(export_text(tree, feature_names=x_train.columns.tolist()))"
   ]
  },
  {
   "cell_type": "code",
   "execution_count": 13,
   "id": "8cc73e5b",
   "metadata": {},
   "outputs": [
    {
     "data": {
      "image/png": "[encoded data removed]",
      "text/plain": [
       "<Figure size 864x504 with 1 Axes>"
      ]
     },
     "metadata": {
      "needs_background": "light"
     },
     "output_type": "display_data"
    }
   ],
   "source": [
    "plt.figure(figsize=(12, 7))\n",
    "plot_tree(tree, feature_names=x_train.columns, class_names = y_train.unique())\n",
    "plt.show()"
   ]
  },
  {
   "cell_type": "code",
   "execution_count": 14,
   "id": "f8c27274",
   "metadata": {},
   "outputs": [
    {
     "data": {
      "text/plain": [
       "array(['True', 'False', 'True', 'True', 'False', 'False', 'True', 'True',\n",
       "       'False', 'True', 'True', 'True', 'True', 'False', 'True', 'True',\n",
       "       'True', 'True', 'True', 'True', 'False', 'False', 'False', 'True',\n",
       "       'False', 'False', 'False', 'False', 'True', 'False', 'True',\n",
       "       'False', 'False', 'True', 'True', 'False', 'False', 'True', 'True',\n",
       "       'False', 'True', 'True', 'False', 'True', 'True', 'True', 'True',\n",
       "       'True', 'True', 'True', 'False', 'True', 'False', 'True', 'True',\n",
       "       'True', 'True', 'False', 'True', 'True', 'False', 'True', 'True',\n",
       "       'True', 'True', 'True', 'True', 'True', 'True', 'False', 'False',\n",
       "       'True', 'True', 'True', 'True', 'False', 'False', 'False', 'False',\n",
       "       'True', 'True', 'True', 'False', 'True', 'True', 'True', 'False',\n",
       "       'True', 'True', 'False', 'True', 'True', 'True', 'True', 'True',\n",
       "       'False', 'True', 'False', 'False', 'False', 'True', 'True', 'True',\n",
       "       'True', 'True', 'True', 'False', 'True', 'False', 'False', 'True',\n",
       "       'False', 'False', 'False', 'False', 'True', 'True', 'False',\n",
       "       'True', 'False', 'True', 'True', 'True', 'False', 'False', 'True',\n",
       "       'False', 'False', 'False', 'False', 'False', 'False', 'False',\n",
       "       'False', 'True', 'False', 'True', 'True', 'False', 'True', 'False',\n",
       "       'False', 'False', 'True', 'False', 'True', 'False', 'True',\n",
       "       'False', 'True', 'False', 'False', 'True', 'True', 'True', 'True',\n",
       "       'False', 'False', 'False', 'False', 'False', 'True', 'False',\n",
       "       'True', 'True', 'False', 'True', 'False', 'True', 'False', 'True',\n",
       "       'False', 'False', 'True', 'True', 'True', 'False', 'True', 'True',\n",
       "       'False', 'False', 'True', 'False', 'True', 'False', 'True', 'True',\n",
       "       'False', 'False', 'True', 'False', 'True', 'False', 'False',\n",
       "       'True', 'True', 'False', 'False', 'False', 'True', 'True', 'True',\n",
       "       'True', 'False', 'True', 'False', 'True', 'True', 'False', 'True',\n",
       "       'False', 'False', 'False', 'True', 'True', 'False', 'True',\n",
       "       'False', 'True', 'True', 'True', 'False', 'False', 'True', 'True',\n",
       "       'False', 'False', 'True', 'True', 'True', 'True', 'True', 'False',\n",
       "       'True', 'False', 'True', 'False', 'True', 'True', 'False', 'True',\n",
       "       'True', 'True', 'False', 'True', 'False', 'True', 'False', 'True',\n",
       "       'True', 'False', 'False', 'False', 'True', 'True', 'True', 'False',\n",
       "       'False', 'False', 'True', 'True', 'True', 'False', 'False', 'True',\n",
       "       'False', 'False', 'True', 'True', 'True', 'True', 'True', 'False',\n",
       "       'False', 'False', 'True', 'True', 'False', 'False', 'False',\n",
       "       'True', 'False', 'False', 'True', 'True', 'True', 'True', 'False',\n",
       "       'True', 'True', 'True', 'True', 'False', 'True', 'True', 'False',\n",
       "       'True', 'False', 'True', 'True', 'True', 'True', 'True', 'True',\n",
       "       'True', 'True', 'True', 'True', 'True', 'False', 'False', 'False',\n",
       "       'True', 'True', 'False', 'True', 'False', 'False', 'False',\n",
       "       'False', 'False', 'False', 'False', 'False', 'False', 'True',\n",
       "       'True', 'True', 'False', 'True', 'True', 'False', 'True', 'True',\n",
       "       'False', 'True', 'False', 'False', 'True', 'True', 'True', 'False',\n",
       "       'True', 'False', 'False', 'True', 'True', 'True', 'False', 'False',\n",
       "       'True', 'False', 'False', 'False', 'False', 'True', 'True', 'True',\n",
       "       'True', 'False', 'False', 'True', 'False', 'True', 'True', 'True',\n",
       "       'False', 'True', 'True', 'True', 'False', 'True', 'True', 'True',\n",
       "       'True', 'False', 'False', 'True', 'False', 'False', 'True', 'True',\n",
       "       'False', 'False', 'True', 'True', 'False', 'True', 'True', 'False',\n",
       "       'True', 'True', 'False', 'True', 'False', 'True', 'True', 'False',\n",
       "       'True', 'False', 'False', 'True', 'False', 'False', 'False',\n",
       "       'True', 'False', 'False', 'False', 'False', 'True', 'False',\n",
       "       'False', 'False', 'False', 'True', 'False', 'True', 'True', 'True',\n",
       "       'True', 'True', 'False', 'False', 'True', 'True', 'True', 'False',\n",
       "       'False', 'True', 'True', 'True', 'True', 'True', 'False', 'False',\n",
       "       'False', 'True', 'False', 'True', 'True', 'True', 'True', 'True',\n",
       "       'True', 'True', 'False', 'True', 'True', 'False', 'False', 'True',\n",
       "       'False', 'False', 'True', 'True', 'True', 'False', 'False',\n",
       "       'False', 'False', 'True', 'True', 'True', 'True', 'True', 'True',\n",
       "       'True', 'False', 'True', 'True', 'True', 'True', 'False', 'True',\n",
       "       'True', 'True', 'False', 'False', 'True', 'True', 'True', 'False',\n",
       "       'True', 'True', 'True', 'True', 'True', 'True', 'False', 'False',\n",
       "       'True', 'False', 'True', 'False', 'True', 'False', 'False'],\n",
       "      dtype=object)"
      ]
     },
     "execution_count": 14,
     "metadata": {},
     "output_type": "execute_result"
    }
   ],
   "source": [
    "tree.predict(x_train)"
   ]
  },
  {
   "cell_type": "code",
   "execution_count": 15,
   "id": "8947993f",
   "metadata": {},
   "outputs": [],
   "source": [
    "predictions = tree.predict(x_train)\n",
    "actual = y_train"
   ]
  },
  {
   "cell_type": "code",
   "execution_count": 16,
   "id": "e20ede24",
   "metadata": {},
   "outputs": [
    {
     "data": {
      "text/plain": [
       "array([[170,  19],\n",
       "       [ 45, 264]])"
      ]
     },
     "execution_count": 16,
     "metadata": {},
     "output_type": "execute_result"
    }
   ],
   "source": [
    "confusion_matrix(actual, predictions)"
   ]
  },
  {
   "cell_type": "code",
   "execution_count": 17,
   "id": "2aeeb62e",
   "metadata": {},
   "outputs": [
    {
     "data": {
      "text/html": [
       "<div>\n",
       "<style scoped>\n",
       "    .dataframe tbody tr th:only-of-type {\n",
       "        vertical-align: middle;\n",
       "    }\n",
       "\n",
       "    .dataframe tbody tr th {\n",
       "        vertical-align: top;\n",
       "    }\n",
       "\n",
       "    .dataframe thead th {\n",
       "        text-align: right;\n",
       "    }\n",
       "</style>\n",
       "<table border=\"1\" class=\"dataframe\">\n",
       "  <thead>\n",
       "    <tr style=\"text-align: right;\">\n",
       "      <th>col_0</th>\n",
       "      <th>False</th>\n",
       "      <th>True</th>\n",
       "    </tr>\n",
       "    <tr>\n",
       "      <th>alone</th>\n",
       "      <th></th>\n",
       "      <th></th>\n",
       "    </tr>\n",
       "  </thead>\n",
       "  <tbody>\n",
       "    <tr>\n",
       "      <th>False</th>\n",
       "      <td>170</td>\n",
       "      <td>19</td>\n",
       "    </tr>\n",
       "    <tr>\n",
       "      <th>True</th>\n",
       "      <td>45</td>\n",
       "      <td>264</td>\n",
       "    </tr>\n",
       "  </tbody>\n",
       "</table>\n",
       "</div>"
      ],
      "text/plain": [
       "col_0  False  True\n",
       "alone             \n",
       "False    170    19\n",
       "True      45   264"
      ]
     },
     "execution_count": 17,
     "metadata": {},
     "output_type": "execute_result"
    }
   ],
   "source": [
    "pd.crosstab(actual, predictions)"
   ]
  },
  {
   "cell_type": "code",
   "execution_count": 18,
   "id": "abc7f23a",
   "metadata": {},
   "outputs": [
    {
     "name": "stderr",
     "output_type": "stream",
     "text": [
      "/opt/homebrew/anaconda3/lib/python3.9/site-packages/sklearn/utils/deprecation.py:87: FutureWarning: Function plot_confusion_matrix is deprecated; Function `plot_confusion_matrix` is deprecated in 1.0 and will be removed in 1.2. Use one of the class methods: ConfusionMatrixDisplay.from_predictions or ConfusionMatrixDisplay.from_estimator.\n",
      "  warnings.warn(msg, category=FutureWarning)\n"
     ]
    },
    {
     "data": {
      "text/plain": [
       "<sklearn.metrics._plot.confusion_matrix.ConfusionMatrixDisplay at 0x154ba5ac0>"
      ]
     },
     "execution_count": 18,
     "metadata": {},
     "output_type": "execute_result"
    },
    {
     "data": {
      "image/png": "[encoded data removed]",
      "text/plain": [
       "<Figure size 432x288 with 2 Axes>"
      ]
     },
     "metadata": {
      "needs_background": "light"
     },
     "output_type": "display_data"
    }
   ],
   "source": [
    "plot_confusion_matrix(tree, x_train, y_train, display_labels=['Not Alone', 'Alone'])"
   ]
  },
  {
   "cell_type": "code",
   "execution_count": 19,
   "id": "733465d1",
   "metadata": {},
   "outputs": [
    {
     "name": "stdout",
     "output_type": "stream",
     "text": [
      "              precision    recall  f1-score   support\n",
      "\n",
      "       False       0.79      0.90      0.84       189\n",
      "        True       0.93      0.85      0.89       309\n",
      "\n",
      "    accuracy                           0.87       498\n",
      "   macro avg       0.86      0.88      0.87       498\n",
      "weighted avg       0.88      0.87      0.87       498\n",
      "\n"
     ]
    }
   ],
   "source": [
    "print(classification_report(actual, predictions))"
   ]
  },
  {
   "cell_type": "code",
   "execution_count": 20,
   "id": "96b5c6bb",
   "metadata": {},
   "outputs": [
    {
     "name": "stdout",
     "output_type": "stream",
     "text": [
      "              precision    recall  f1-score   support\n",
      "\n",
      "       False       0.76      0.85      0.80        53\n",
      "        True       0.88      0.81      0.84        72\n",
      "\n",
      "    accuracy                           0.82       125\n",
      "   macro avg       0.82      0.83      0.82       125\n",
      "weighted avg       0.83      0.82      0.82       125\n",
      "\n"
     ]
    }
   ],
   "source": [
    "predictions = tree.predict(x_validate)\n",
    "actual = y_validate\n",
    "\n",
    "print(classification_report(actual, predictions))"
   ]
  },
  {
   "cell_type": "code",
   "execution_count": 21,
   "id": "d91ffd89",
   "metadata": {},
   "outputs": [
    {
     "name": "stdout",
     "output_type": "stream",
     "text": [
      "              precision    recall  f1-score   support\n",
      "\n",
      "       False       0.85      0.93      0.89       112\n",
      "        True       0.94      0.88      0.91       156\n",
      "\n",
      "    accuracy                           0.90       268\n",
      "   macro avg       0.90      0.90      0.90       268\n",
      "weighted avg       0.90      0.90      0.90       268\n",
      "\n"
     ]
    }
   ],
   "source": [
    "predictions = tree.predict(x_test)\n",
    "actual = y_test\n",
    "\n",
    "print(classification_report(actual, predictions))"
   ]
  },
  {
   "cell_type": "markdown",
   "id": "1a99ad8d",
   "metadata": {},
   "source": [
    "# Telco data"
   ]
  },
  {
   "cell_type": "markdown",
   "id": "3023d994",
   "metadata": {},
   "source": [
    "# Question: Can we predict how many customers churned when they did not have internet service based on the Telco data?\n",
    "\n",
    "> Baseline Prediction: Customers churned when they did not have internet service."
   ]
  },
  {
   "cell_type": "code",
   "execution_count": 22,
   "id": "f14d9ec0",
   "metadata": {
    "scrolled": true
   },
   "outputs": [
    {
     "data": {
      "text/html": [
       "<div>\n",
       "<style scoped>\n",
       "    .dataframe tbody tr th:only-of-type {\n",
       "        vertical-align: middle;\n",
       "    }\n",
       "\n",
       "    .dataframe tbody tr th {\n",
       "        vertical-align: top;\n",
       "    }\n",
       "\n",
       "    .dataframe thead th {\n",
       "        text-align: right;\n",
       "    }\n",
       "</style>\n",
       "<table border=\"1\" class=\"dataframe\">\n",
       "  <thead>\n",
       "    <tr style=\"text-align: right;\">\n",
       "      <th></th>\n",
       "      <th>payment_type_id</th>\n",
       "      <th>internet_service_type_id</th>\n",
       "      <th>contract_type_id</th>\n",
       "      <th>customer_id</th>\n",
       "      <th>gender</th>\n",
       "      <th>senior_citizen</th>\n",
       "      <th>partner</th>\n",
       "      <th>dependents</th>\n",
       "      <th>tenure</th>\n",
       "      <th>phone_service</th>\n",
       "      <th>...</th>\n",
       "      <th>tech_support</th>\n",
       "      <th>streaming_tv</th>\n",
       "      <th>streaming_movies</th>\n",
       "      <th>paperless_billing</th>\n",
       "      <th>monthly_charges</th>\n",
       "      <th>total_charges</th>\n",
       "      <th>churn</th>\n",
       "      <th>contract_type</th>\n",
       "      <th>internet_service_type</th>\n",
       "      <th>payment_type</th>\n",
       "    </tr>\n",
       "  </thead>\n",
       "  <tbody>\n",
       "    <tr>\n",
       "      <th>0</th>\n",
       "      <td>2</td>\n",
       "      <td>1</td>\n",
       "      <td>2</td>\n",
       "      <td>0002-ORFBO</td>\n",
       "      <td>Female</td>\n",
       "      <td>0</td>\n",
       "      <td>Yes</td>\n",
       "      <td>Yes</td>\n",
       "      <td>9</td>\n",
       "      <td>Yes</td>\n",
       "      <td>...</td>\n",
       "      <td>Yes</td>\n",
       "      <td>Yes</td>\n",
       "      <td>No</td>\n",
       "      <td>Yes</td>\n",
       "      <td>65.60</td>\n",
       "      <td>593.3</td>\n",
       "      <td>No</td>\n",
       "      <td>One year</td>\n",
       "      <td>DSL</td>\n",
       "      <td>Mailed check</td>\n",
       "    </tr>\n",
       "    <tr>\n",
       "      <th>1</th>\n",
       "      <td>2</td>\n",
       "      <td>1</td>\n",
       "      <td>1</td>\n",
       "      <td>0003-MKNFE</td>\n",
       "      <td>Male</td>\n",
       "      <td>0</td>\n",
       "      <td>No</td>\n",
       "      <td>No</td>\n",
       "      <td>9</td>\n",
       "      <td>Yes</td>\n",
       "      <td>...</td>\n",
       "      <td>No</td>\n",
       "      <td>No</td>\n",
       "      <td>Yes</td>\n",
       "      <td>No</td>\n",
       "      <td>59.90</td>\n",
       "      <td>542.4</td>\n",
       "      <td>No</td>\n",
       "      <td>Month-to-month</td>\n",
       "      <td>DSL</td>\n",
       "      <td>Mailed check</td>\n",
       "    </tr>\n",
       "    <tr>\n",
       "      <th>2</th>\n",
       "      <td>1</td>\n",
       "      <td>2</td>\n",
       "      <td>1</td>\n",
       "      <td>0004-TLHLJ</td>\n",
       "      <td>Male</td>\n",
       "      <td>0</td>\n",
       "      <td>No</td>\n",
       "      <td>No</td>\n",
       "      <td>4</td>\n",
       "      <td>Yes</td>\n",
       "      <td>...</td>\n",
       "      <td>No</td>\n",
       "      <td>No</td>\n",
       "      <td>No</td>\n",
       "      <td>Yes</td>\n",
       "      <td>73.90</td>\n",
       "      <td>280.85</td>\n",
       "      <td>Yes</td>\n",
       "      <td>Month-to-month</td>\n",
       "      <td>Fiber optic</td>\n",
       "      <td>Electronic check</td>\n",
       "    </tr>\n",
       "    <tr>\n",
       "      <th>3</th>\n",
       "      <td>1</td>\n",
       "      <td>2</td>\n",
       "      <td>1</td>\n",
       "      <td>0011-IGKFF</td>\n",
       "      <td>Male</td>\n",
       "      <td>1</td>\n",
       "      <td>Yes</td>\n",
       "      <td>No</td>\n",
       "      <td>13</td>\n",
       "      <td>Yes</td>\n",
       "      <td>...</td>\n",
       "      <td>No</td>\n",
       "      <td>Yes</td>\n",
       "      <td>Yes</td>\n",
       "      <td>Yes</td>\n",
       "      <td>98.00</td>\n",
       "      <td>1237.85</td>\n",
       "      <td>Yes</td>\n",
       "      <td>Month-to-month</td>\n",
       "      <td>Fiber optic</td>\n",
       "      <td>Electronic check</td>\n",
       "    </tr>\n",
       "    <tr>\n",
       "      <th>4</th>\n",
       "      <td>2</td>\n",
       "      <td>2</td>\n",
       "      <td>1</td>\n",
       "      <td>0013-EXCHZ</td>\n",
       "      <td>Female</td>\n",
       "      <td>1</td>\n",
       "      <td>Yes</td>\n",
       "      <td>No</td>\n",
       "      <td>3</td>\n",
       "      <td>Yes</td>\n",
       "      <td>...</td>\n",
       "      <td>Yes</td>\n",
       "      <td>Yes</td>\n",
       "      <td>No</td>\n",
       "      <td>Yes</td>\n",
       "      <td>83.90</td>\n",
       "      <td>267.4</td>\n",
       "      <td>Yes</td>\n",
       "      <td>Month-to-month</td>\n",
       "      <td>Fiber optic</td>\n",
       "      <td>Mailed check</td>\n",
       "    </tr>\n",
       "    <tr>\n",
       "      <th>...</th>\n",
       "      <td>...</td>\n",
       "      <td>...</td>\n",
       "      <td>...</td>\n",
       "      <td>...</td>\n",
       "      <td>...</td>\n",
       "      <td>...</td>\n",
       "      <td>...</td>\n",
       "      <td>...</td>\n",
       "      <td>...</td>\n",
       "      <td>...</td>\n",
       "      <td>...</td>\n",
       "      <td>...</td>\n",
       "      <td>...</td>\n",
       "      <td>...</td>\n",
       "      <td>...</td>\n",
       "      <td>...</td>\n",
       "      <td>...</td>\n",
       "      <td>...</td>\n",
       "      <td>...</td>\n",
       "      <td>...</td>\n",
       "      <td>...</td>\n",
       "    </tr>\n",
       "    <tr>\n",
       "      <th>7038</th>\n",
       "      <td>2</td>\n",
       "      <td>1</td>\n",
       "      <td>2</td>\n",
       "      <td>9987-LUTYD</td>\n",
       "      <td>Female</td>\n",
       "      <td>0</td>\n",
       "      <td>No</td>\n",
       "      <td>No</td>\n",
       "      <td>13</td>\n",
       "      <td>Yes</td>\n",
       "      <td>...</td>\n",
       "      <td>Yes</td>\n",
       "      <td>No</td>\n",
       "      <td>No</td>\n",
       "      <td>No</td>\n",
       "      <td>55.15</td>\n",
       "      <td>742.9</td>\n",
       "      <td>No</td>\n",
       "      <td>One year</td>\n",
       "      <td>DSL</td>\n",
       "      <td>Mailed check</td>\n",
       "    </tr>\n",
       "    <tr>\n",
       "      <th>7039</th>\n",
       "      <td>1</td>\n",
       "      <td>2</td>\n",
       "      <td>1</td>\n",
       "      <td>9992-RRAMN</td>\n",
       "      <td>Male</td>\n",
       "      <td>0</td>\n",
       "      <td>Yes</td>\n",
       "      <td>No</td>\n",
       "      <td>22</td>\n",
       "      <td>Yes</td>\n",
       "      <td>...</td>\n",
       "      <td>No</td>\n",
       "      <td>No</td>\n",
       "      <td>Yes</td>\n",
       "      <td>Yes</td>\n",
       "      <td>85.10</td>\n",
       "      <td>1873.7</td>\n",
       "      <td>Yes</td>\n",
       "      <td>Month-to-month</td>\n",
       "      <td>Fiber optic</td>\n",
       "      <td>Electronic check</td>\n",
       "    </tr>\n",
       "    <tr>\n",
       "      <th>7040</th>\n",
       "      <td>2</td>\n",
       "      <td>1</td>\n",
       "      <td>1</td>\n",
       "      <td>9992-UJOEL</td>\n",
       "      <td>Male</td>\n",
       "      <td>0</td>\n",
       "      <td>No</td>\n",
       "      <td>No</td>\n",
       "      <td>2</td>\n",
       "      <td>Yes</td>\n",
       "      <td>...</td>\n",
       "      <td>No</td>\n",
       "      <td>No</td>\n",
       "      <td>No</td>\n",
       "      <td>Yes</td>\n",
       "      <td>50.30</td>\n",
       "      <td>92.75</td>\n",
       "      <td>No</td>\n",
       "      <td>Month-to-month</td>\n",
       "      <td>DSL</td>\n",
       "      <td>Mailed check</td>\n",
       "    </tr>\n",
       "    <tr>\n",
       "      <th>7041</th>\n",
       "      <td>2</td>\n",
       "      <td>1</td>\n",
       "      <td>3</td>\n",
       "      <td>9993-LHIEB</td>\n",
       "      <td>Male</td>\n",
       "      <td>0</td>\n",
       "      <td>Yes</td>\n",
       "      <td>Yes</td>\n",
       "      <td>67</td>\n",
       "      <td>Yes</td>\n",
       "      <td>...</td>\n",
       "      <td>Yes</td>\n",
       "      <td>No</td>\n",
       "      <td>Yes</td>\n",
       "      <td>No</td>\n",
       "      <td>67.85</td>\n",
       "      <td>4627.65</td>\n",
       "      <td>No</td>\n",
       "      <td>Two year</td>\n",
       "      <td>DSL</td>\n",
       "      <td>Mailed check</td>\n",
       "    </tr>\n",
       "    <tr>\n",
       "      <th>7042</th>\n",
       "      <td>1</td>\n",
       "      <td>1</td>\n",
       "      <td>3</td>\n",
       "      <td>9995-HOTOH</td>\n",
       "      <td>Male</td>\n",
       "      <td>0</td>\n",
       "      <td>Yes</td>\n",
       "      <td>Yes</td>\n",
       "      <td>63</td>\n",
       "      <td>No</td>\n",
       "      <td>...</td>\n",
       "      <td>No</td>\n",
       "      <td>Yes</td>\n",
       "      <td>Yes</td>\n",
       "      <td>No</td>\n",
       "      <td>59.00</td>\n",
       "      <td>3707.6</td>\n",
       "      <td>No</td>\n",
       "      <td>Two year</td>\n",
       "      <td>DSL</td>\n",
       "      <td>Electronic check</td>\n",
       "    </tr>\n",
       "  </tbody>\n",
       "</table>\n",
       "<p>7043 rows × 24 columns</p>\n",
       "</div>"
      ],
      "text/plain": [
       "      payment_type_id  internet_service_type_id  contract_type_id customer_id  \\\n",
       "0                   2                         1                 2  0002-ORFBO   \n",
       "1                   2                         1                 1  0003-MKNFE   \n",
       "2                   1                         2                 1  0004-TLHLJ   \n",
       "3                   1                         2                 1  0011-IGKFF   \n",
       "4                   2                         2                 1  0013-EXCHZ   \n",
       "...               ...                       ...               ...         ...   \n",
       "7038                2                         1                 2  9987-LUTYD   \n",
       "7039                1                         2                 1  9992-RRAMN   \n",
       "7040                2                         1                 1  9992-UJOEL   \n",
       "7041                2                         1                 3  9993-LHIEB   \n",
       "7042                1                         1                 3  9995-HOTOH   \n",
       "\n",
       "      gender  senior_citizen partner dependents  tenure phone_service  ...  \\\n",
       "0     Female               0     Yes        Yes       9           Yes  ...   \n",
       "1       Male               0      No         No       9           Yes  ...   \n",
       "2       Male               0      No         No       4           Yes  ...   \n",
       "3       Male               1     Yes         No      13           Yes  ...   \n",
       "4     Female               1     Yes         No       3           Yes  ...   \n",
       "...      ...             ...     ...        ...     ...           ...  ...   \n",
       "7038  Female               0      No         No      13           Yes  ...   \n",
       "7039    Male               0     Yes         No      22           Yes  ...   \n",
       "7040    Male               0      No         No       2           Yes  ...   \n",
       "7041    Male               0     Yes        Yes      67           Yes  ...   \n",
       "7042    Male               0     Yes        Yes      63            No  ...   \n",
       "\n",
       "     tech_support streaming_tv streaming_movies paperless_billing  \\\n",
       "0             Yes          Yes               No               Yes   \n",
       "1              No           No              Yes                No   \n",
       "2              No           No               No               Yes   \n",
       "3              No          Yes              Yes               Yes   \n",
       "4             Yes          Yes               No               Yes   \n",
       "...           ...          ...              ...               ...   \n",
       "7038          Yes           No               No                No   \n",
       "7039           No           No              Yes               Yes   \n",
       "7040           No           No               No               Yes   \n",
       "7041          Yes           No              Yes                No   \n",
       "7042           No          Yes              Yes                No   \n",
       "\n",
       "     monthly_charges total_charges churn   contract_type  \\\n",
       "0              65.60         593.3    No        One year   \n",
       "1              59.90         542.4    No  Month-to-month   \n",
       "2              73.90        280.85   Yes  Month-to-month   \n",
       "3              98.00       1237.85   Yes  Month-to-month   \n",
       "4              83.90         267.4   Yes  Month-to-month   \n",
       "...              ...           ...   ...             ...   \n",
       "7038           55.15         742.9    No        One year   \n",
       "7039           85.10        1873.7   Yes  Month-to-month   \n",
       "7040           50.30         92.75    No  Month-to-month   \n",
       "7041           67.85       4627.65    No        Two year   \n",
       "7042           59.00        3707.6    No        Two year   \n",
       "\n",
       "      internet_service_type      payment_type  \n",
       "0                       DSL      Mailed check  \n",
       "1                       DSL      Mailed check  \n",
       "2               Fiber optic  Electronic check  \n",
       "3               Fiber optic  Electronic check  \n",
       "4               Fiber optic      Mailed check  \n",
       "...                     ...               ...  \n",
       "7038                    DSL      Mailed check  \n",
       "7039            Fiber optic  Electronic check  \n",
       "7040                    DSL      Mailed check  \n",
       "7041                    DSL      Mailed check  \n",
       "7042                    DSL  Electronic check  \n",
       "\n",
       "[7043 rows x 24 columns]"
      ]
     },
     "execution_count": 22,
     "metadata": {},
     "output_type": "execute_result"
    }
   ],
   "source": [
    "telco = acquire.get_telco_data()\n",
    "telco"
   ]
  },
  {
   "cell_type": "code",
   "execution_count": 23,
   "id": "89f67b09",
   "metadata": {},
   "outputs": [],
   "source": [
    "#x_train = telco[['internet_service_type_Fiber optic', 'internet_service_type_None','senior_citizen','tenure']]\n",
    "#y_train = telco['churn_Yes']"
   ]
  },
  {
   "cell_type": "code",
   "execution_count": 24,
   "id": "789061a5",
   "metadata": {},
   "outputs": [],
   "source": [
    "#tree = DecisionTreeClassifier(max_depth = 3)"
   ]
  },
  {
   "cell_type": "code",
   "execution_count": 25,
   "id": "ea117a94",
   "metadata": {},
   "outputs": [],
   "source": [
    "#tree.fit(x_train, y_train)\n",
    "\n",
    "#print(export_text(tree, feature_names=x_train.columns.tolist()))"
   ]
  },
  {
   "cell_type": "code",
   "execution_count": null,
   "id": "a2fa3b28",
   "metadata": {},
   "outputs": [],
   "source": []
  },
  {
   "cell_type": "code",
   "execution_count": null,
   "id": "15a73c15",
   "metadata": {},
   "outputs": [],
   "source": []
  },
  {
   "cell_type": "markdown",
   "id": "cfabd3f2",
   "metadata": {},
   "source": [
    "# Random Forest Exercises"
   ]
  },
  {
   "cell_type": "code",
   "execution_count": 27,
   "id": "18e7f868",
   "metadata": {},
   "outputs": [],
   "source": [
    "import numpy as np\n",
    "import pandas as pd\n",
    "\n",
    "from sklearn.model_selection import train_test_split\n",
    "from sklearn.ensemble import RandomForestClassifier\n",
    "from sklearn.metrics import classification_report, confusion_matrix, ConfusionMatrixDisplay\n",
    "\n",
    "import matplotlib.pyplot as plt\n",
    "%matplotlib inline\n",
    "import seaborn as sns\n",
    "\n",
    "# ignore warnings\n",
    "import warnings\n",
    "warnings.filterwarnings(\"ignore\")"
   ]
  },
  {
   "cell_type": "code",
   "execution_count": 106,
   "id": "e7f189c5",
   "metadata": {},
   "outputs": [],
   "source": [
    "forest = RandomForestClassifier(max_depth=3, min_samples_leaf=15, random_state=123)"
   ]
  },
  {
   "cell_type": "code",
   "execution_count": 107,
   "id": "40d7451d",
   "metadata": {},
   "outputs": [
    {
     "data": {
      "text/plain": [
       "RandomForestClassifier(max_depth=3, min_samples_leaf=15, random_state=123)"
      ]
     },
     "execution_count": 107,
     "metadata": {},
     "output_type": "execute_result"
    }
   ],
   "source": [
    "forest"
   ]
  },
  {
   "cell_type": "code",
   "execution_count": 108,
   "id": "9a4d45f6",
   "metadata": {},
   "outputs": [
    {
     "data": {
      "text/plain": [
       "RandomForestClassifier(max_depth=3, min_samples_leaf=15, random_state=123)"
      ]
     },
     "execution_count": 108,
     "metadata": {},
     "output_type": "execute_result"
    }
   ],
   "source": [
    "forest.fit(x_train, y_train)"
   ]
  },
  {
   "cell_type": "code",
   "execution_count": 109,
   "id": "8a5afd13",
   "metadata": {},
   "outputs": [
    {
     "name": "stdout",
     "output_type": "stream",
     "text": [
      "[0.05279956 0.17867611 0.6753205  0.0778701  0.00213893 0.0131948 ]\n"
     ]
    }
   ],
   "source": [
    "print(forest.feature_importances_)"
   ]
  },
  {
   "cell_type": "code",
   "execution_count": 110,
   "id": "92e3266b",
   "metadata": {},
   "outputs": [
    {
     "data": {
      "image/png": "[encoded data removed]",
      "text/plain": [
       "<Figure size 432x288 with 1 Axes>"
      ]
     },
     "metadata": {
      "needs_background": "light"
     },
     "output_type": "display_data"
    }
   ],
   "source": [
    "plt.bar(x_train.columns, forest.feature_importances_)\n",
    "plt.show()"
   ]
  },
  {
   "cell_type": "code",
   "execution_count": 111,
   "id": "70317477",
   "metadata": {},
   "outputs": [
    {
     "data": {
      "text/plain": [
       "array(['True', 'True', 'True', 'True', 'False', 'False', 'True', 'True',\n",
       "       'False', 'True', 'True', 'True', 'True', 'False', 'True', 'True',\n",
       "       'True', 'True', 'True', 'True', 'False', 'True', 'False', 'True',\n",
       "       'False', 'False', 'False', 'False', 'True', 'True', 'True',\n",
       "       'False', 'False', 'True', 'True', 'False', 'False', 'True', 'True',\n",
       "       'False', 'True', 'True', 'True', 'True', 'True', 'True', 'True',\n",
       "       'True', 'True', 'True', 'False', 'True', 'False', 'True', 'True',\n",
       "       'True', 'True', 'False', 'True', 'True', 'True', 'True', 'True',\n",
       "       'True', 'True', 'True', 'True', 'True', 'True', 'False', 'False',\n",
       "       'True', 'True', 'True', 'True', 'False', 'False', 'False', 'False',\n",
       "       'True', 'True', 'True', 'False', 'True', 'True', 'True', 'False',\n",
       "       'True', 'True', 'False', 'True', 'True', 'True', 'True', 'True',\n",
       "       'False', 'True', 'False', 'False', 'True', 'True', 'True', 'True',\n",
       "       'True', 'True', 'True', 'False', 'True', 'False', 'False', 'True',\n",
       "       'False', 'False', 'False', 'False', 'True', 'True', 'False',\n",
       "       'True', 'False', 'True', 'True', 'True', 'True', 'False', 'True',\n",
       "       'False', 'False', 'False', 'False', 'False', 'False', 'False',\n",
       "       'False', 'True', 'False', 'True', 'True', 'False', 'True', 'False',\n",
       "       'False', 'True', 'True', 'False', 'True', 'True', 'True', 'True',\n",
       "       'True', 'False', 'True', 'False', 'True', 'True', 'True', 'False',\n",
       "       'True', 'True', 'False', 'False', 'True', 'False', 'True', 'True',\n",
       "       'False', 'True', 'False', 'True', 'False', 'True', 'False',\n",
       "       'False', 'True', 'True', 'True', 'False', 'True', 'True', 'False',\n",
       "       'False', 'True', 'False', 'True', 'False', 'True', 'True', 'True',\n",
       "       'False', 'True', 'False', 'True', 'False', 'True', 'True', 'True',\n",
       "       'False', 'False', 'False', 'True', 'True', 'True', 'True', 'False',\n",
       "       'True', 'False', 'True', 'True', 'False', 'False', 'True', 'False',\n",
       "       'True', 'True', 'True', 'False', 'True', 'False', 'True', 'True',\n",
       "       'True', 'False', 'False', 'True', 'True', 'True', 'False', 'True',\n",
       "       'True', 'True', 'True', 'True', 'False', 'True', 'False', 'False',\n",
       "       'False', 'True', 'True', 'False', 'True', 'True', 'True', 'False',\n",
       "       'True', 'False', 'True', 'False', 'True', 'True', 'False', 'False',\n",
       "       'False', 'True', 'True', 'True', 'False', 'False', 'False', 'True',\n",
       "       'True', 'True', 'False', 'False', 'True', 'False', 'False', 'True',\n",
       "       'True', 'True', 'True', 'True', 'False', 'False', 'False', 'True',\n",
       "       'True', 'False', 'False', 'False', 'True', 'False', 'False',\n",
       "       'True', 'True', 'True', 'True', 'True', 'True', 'True', 'True',\n",
       "       'True', 'False', 'True', 'True', 'False', 'True', 'False', 'True',\n",
       "       'True', 'True', 'True', 'True', 'False', 'True', 'True', 'True',\n",
       "       'True', 'True', 'False', 'True', 'False', 'True', 'True', 'False',\n",
       "       'True', 'False', 'False', 'False', 'True', 'False', 'False',\n",
       "       'False', 'False', 'False', 'True', 'True', 'True', 'False', 'True',\n",
       "       'True', 'True', 'True', 'True', 'False', 'True', 'False', 'False',\n",
       "       'True', 'True', 'True', 'False', 'True', 'False', 'False', 'True',\n",
       "       'True', 'True', 'False', 'False', 'True', 'False', 'True', 'False',\n",
       "       'True', 'True', 'True', 'True', 'True', 'False', 'False', 'True',\n",
       "       'False', 'True', 'True', 'True', 'False', 'True', 'True', 'True',\n",
       "       'False', 'True', 'True', 'True', 'True', 'True', 'False', 'True',\n",
       "       'True', 'False', 'True', 'True', 'False', 'False', 'True', 'True',\n",
       "       'False', 'True', 'True', 'False', 'True', 'True', 'False', 'True',\n",
       "       'False', 'True', 'True', 'False', 'True', 'False', 'False', 'True',\n",
       "       'True', 'False', 'False', 'True', 'False', 'False', 'False',\n",
       "       'False', 'True', 'False', 'False', 'False', 'False', 'True',\n",
       "       'False', 'True', 'True', 'True', 'True', 'True', 'False', 'False',\n",
       "       'True', 'True', 'True', 'False', 'True', 'True', 'True', 'True',\n",
       "       'True', 'True', 'False', 'False', 'False', 'True', 'False', 'True',\n",
       "       'True', 'True', 'True', 'True', 'True', 'True', 'False', 'True',\n",
       "       'False', 'False', 'False', 'True', 'False', 'False', 'True',\n",
       "       'True', 'True', 'False', 'False', 'False', 'False', 'True', 'True',\n",
       "       'True', 'True', 'True', 'True', 'True', 'False', 'True', 'True',\n",
       "       'True', 'True', 'False', 'True', 'True', 'True', 'True', 'False',\n",
       "       'True', 'True', 'True', 'False', 'True', 'True', 'True', 'True',\n",
       "       'True', 'True', 'False', 'False', 'True', 'False', 'True', 'False',\n",
       "       'True', 'False', 'True'], dtype=object)"
      ]
     },
     "execution_count": 111,
     "metadata": {},
     "output_type": "execute_result"
    }
   ],
   "source": [
    "y_pred = forest.predict(x_train)\n",
    "y_pred"
   ]
  },
  {
   "cell_type": "code",
   "execution_count": 112,
   "id": "9835e961",
   "metadata": {},
   "outputs": [
    {
     "data": {
      "text/plain": [
       "array([[0.4140965 , 0.5859035 ],\n",
       "       [0.33703565, 0.66296435],\n",
       "       [0.21747826, 0.78252174],\n",
       "       [0.13125328, 0.86874672],\n",
       "       [0.5562042 , 0.4437958 ],\n",
       "       [0.57152391, 0.42847609],\n",
       "       [0.13776924, 0.86223076],\n",
       "       [0.28242437, 0.71757563],\n",
       "       [0.62956262, 0.37043738],\n",
       "       [0.13125328, 0.86874672],\n",
       "       [0.13689886, 0.86310114],\n",
       "       [0.12555113, 0.87444887],\n",
       "       [0.13297229, 0.86702771],\n",
       "       [0.55388929, 0.44611071],\n",
       "       [0.19880628, 0.80119372],\n",
       "       [0.13447209, 0.86552791],\n",
       "       [0.13125328, 0.86874672],\n",
       "       [0.13125328, 0.86874672],\n",
       "       [0.14458741, 0.85541259],\n",
       "       [0.13175641, 0.86824359],\n",
       "       [0.64384352, 0.35615648],\n",
       "       [0.35372703, 0.64627297],\n",
       "       [0.78757641, 0.21242359],\n",
       "       [0.13125328, 0.86874672],\n",
       "       [0.77145099, 0.22854901],\n",
       "       [0.53915579, 0.46084421],\n",
       "       [0.58087123, 0.41912877],\n",
       "       [0.52819114, 0.47180886],\n",
       "       [0.13125328, 0.86874672],\n",
       "       [0.35372703, 0.64627297],\n",
       "       [0.13175641, 0.86824359],\n",
       "       [0.62956262, 0.37043738],\n",
       "       [0.74005671, 0.25994329],\n",
       "       [0.45034332, 0.54965668],\n",
       "       [0.13447209, 0.86552791],\n",
       "       [0.52819114, 0.47180886],\n",
       "       [0.53443657, 0.46556343],\n",
       "       [0.13996553, 0.86003447],\n",
       "       [0.14300179, 0.85699821],\n",
       "       [0.75797919, 0.24202081],\n",
       "       [0.13125328, 0.86874672],\n",
       "       [0.192943  , 0.807057  ],\n",
       "       [0.26176878, 0.73823122],\n",
       "       [0.15206725, 0.84793275],\n",
       "       [0.13175641, 0.86824359],\n",
       "       [0.19880628, 0.80119372],\n",
       "       [0.13125328, 0.86874672],\n",
       "       [0.13364537, 0.86635463],\n",
       "       [0.13447209, 0.86552791],\n",
       "       [0.13125328, 0.86874672],\n",
       "       [0.62956262, 0.37043738],\n",
       "       [0.13776924, 0.86223076],\n",
       "       [0.75329685, 0.24670315],\n",
       "       [0.19880628, 0.80119372],\n",
       "       [0.25457735, 0.74542265],\n",
       "       [0.11984203, 0.88015797],\n",
       "       [0.13125328, 0.86874672],\n",
       "       [0.77736739, 0.22263261],\n",
       "       [0.23165464, 0.76834536],\n",
       "       [0.13125328, 0.86874672],\n",
       "       [0.40480108, 0.59519892],\n",
       "       [0.23932441, 0.76067559],\n",
       "       [0.13175641, 0.86824359],\n",
       "       [0.4140965 , 0.5859035 ],\n",
       "       [0.13297229, 0.86702771],\n",
       "       [0.43554221, 0.56445779],\n",
       "       [0.22690965, 0.77309035],\n",
       "       [0.21040079, 0.78959921],\n",
       "       [0.17800032, 0.82199968],\n",
       "       [0.61310874, 0.38689126],\n",
       "       [0.52583089, 0.47416911],\n",
       "       [0.13364537, 0.86635463],\n",
       "       [0.4140965 , 0.5859035 ],\n",
       "       [0.13689886, 0.86310114],\n",
       "       [0.13195698, 0.86804302],\n",
       "       [0.64384352, 0.35615648],\n",
       "       [0.62651731, 0.37348269],\n",
       "       [0.56893616, 0.43106384],\n",
       "       [0.52819114, 0.47180886],\n",
       "       [0.21040079, 0.78959921],\n",
       "       [0.13125328, 0.86874672],\n",
       "       [0.14300179, 0.85699821],\n",
       "       [0.74397245, 0.25602755],\n",
       "       [0.13776924, 0.86223076],\n",
       "       [0.13689886, 0.86310114],\n",
       "       [0.13175641, 0.86824359],\n",
       "       [0.51581539, 0.48418461],\n",
       "       [0.26850273, 0.73149727],\n",
       "       [0.14458741, 0.85541259],\n",
       "       [0.56321807, 0.43678193],\n",
       "       [0.14730309, 0.85269691],\n",
       "       [0.13125328, 0.86874672],\n",
       "       [0.13175641, 0.86824359],\n",
       "       [0.4390498 , 0.5609502 ],\n",
       "       [0.13125328, 0.86874672],\n",
       "       [0.63292686, 0.36707314],\n",
       "       [0.13447209, 0.86552791],\n",
       "       [0.65186793, 0.34813207],\n",
       "       [0.52776296, 0.47223704],\n",
       "       [0.49663699, 0.50336301],\n",
       "       [0.13125328, 0.86874672],\n",
       "       [0.13125328, 0.86874672],\n",
       "       [0.13125328, 0.86874672],\n",
       "       [0.14408427, 0.85591573],\n",
       "       [0.13776924, 0.86223076],\n",
       "       [0.46084353, 0.53915647],\n",
       "       [0.56650858, 0.43349142],\n",
       "       [0.13996553, 0.86003447],\n",
       "       [0.63140553, 0.36859447],\n",
       "       [0.77084522, 0.22915478],\n",
       "       [0.14372772, 0.85627228],\n",
       "       [0.57152391, 0.42847609],\n",
       "       [0.75329685, 0.24670315],\n",
       "       [0.77736739, 0.22263261],\n",
       "       [0.62651731, 0.37348269],\n",
       "       [0.13125328, 0.86874672],\n",
       "       [0.13996553, 0.86003447],\n",
       "       [0.52819114, 0.47180886],\n",
       "       [0.13125328, 0.86874672],\n",
       "       [0.52744695, 0.47255305],\n",
       "       [0.13125328, 0.86874672],\n",
       "       [0.13175641, 0.86824359],\n",
       "       [0.14458741, 0.85541259],\n",
       "       [0.25501958, 0.74498042],\n",
       "       [0.64337855, 0.35662145],\n",
       "       [0.21040079, 0.78959921],\n",
       "       [0.63698516, 0.36301484],\n",
       "       [0.7840187 , 0.2159813 ],\n",
       "       [0.62651731, 0.37348269],\n",
       "       [0.53443657, 0.46556343],\n",
       "       [0.74397245, 0.25602755],\n",
       "       [0.64337855, 0.35662145],\n",
       "       [0.62956262, 0.37043738],\n",
       "       [0.62651731, 0.37348269],\n",
       "       [0.17800032, 0.82199968],\n",
       "       [0.72819756, 0.27180244],\n",
       "       [0.27318172, 0.72681828],\n",
       "       [0.13776924, 0.86223076],\n",
       "       [0.56004941, 0.43995059],\n",
       "       [0.13689886, 0.86310114],\n",
       "       [0.57607686, 0.42392314],\n",
       "       [0.56650858, 0.43349142],\n",
       "       [0.4183603 , 0.5816397 ],\n",
       "       [0.13125328, 0.86874672],\n",
       "       [0.78145717, 0.21854283],\n",
       "       [0.20478186, 0.79521814],\n",
       "       [0.4469044 , 0.5530956 ],\n",
       "       [0.4140965 , 0.5859035 ],\n",
       "       [0.4183603 , 0.5816397 ],\n",
       "       [0.20478186, 0.79521814],\n",
       "       [0.62720237, 0.37279763],\n",
       "       [0.43134877, 0.56865123],\n",
       "       [0.62542006, 0.37457994],\n",
       "       [0.12555113, 0.87444887],\n",
       "       [0.2175458 , 0.7824542 ],\n",
       "       [0.13125328, 0.86874672],\n",
       "       [0.52776296, 0.47223704],\n",
       "       [0.27084437, 0.72915563],\n",
       "       [0.49736094, 0.50263906],\n",
       "       [0.75858496, 0.24141504],\n",
       "       [0.68899647, 0.31100353],\n",
       "       [0.14408427, 0.85591573],\n",
       "       [0.65520126, 0.34479874],\n",
       "       [0.17800032, 0.82199968],\n",
       "       [0.13125328, 0.86874672],\n",
       "       [0.75858496, 0.24141504],\n",
       "       [0.19420492, 0.80579508],\n",
       "       [0.74792373, 0.25207627],\n",
       "       [0.22690965, 0.77309035],\n",
       "       [0.62651731, 0.37348269],\n",
       "       [0.28508041, 0.71491959],\n",
       "       [0.64337855, 0.35662145],\n",
       "       [0.77907892, 0.22092108],\n",
       "       [0.12555113, 0.87444887],\n",
       "       [0.25457735, 0.74542265],\n",
       "       [0.21040079, 0.78959921],\n",
       "       [0.74781146, 0.25218854],\n",
       "       [0.13125328, 0.86874672],\n",
       "       [0.13125328, 0.86874672],\n",
       "       [0.56593097, 0.43406903],\n",
       "       [0.62720237, 0.37279763],\n",
       "       [0.13996553, 0.86003447],\n",
       "       [0.74005671, 0.25994329],\n",
       "       [0.1389133 , 0.8610867 ],\n",
       "       [0.56650858, 0.43349142],\n",
       "       [0.17800032, 0.82199968],\n",
       "       [0.42664462, 0.57335538],\n",
       "       [0.4183603 , 0.5816397 ],\n",
       "       [0.54127734, 0.45872266],\n",
       "       [0.44816383, 0.55183617],\n",
       "       [0.78145717, 0.21854283],\n",
       "       [0.25457735, 0.74542265],\n",
       "       [0.52776296, 0.47223704],\n",
       "       [0.4183603 , 0.5816397 ],\n",
       "       [0.42385141, 0.57614859],\n",
       "       [0.13175641, 0.86824359],\n",
       "       [0.74792373, 0.25207627],\n",
       "       [0.63292686, 0.36707314],\n",
       "       [0.65050197, 0.34949803],\n",
       "       [0.25836591, 0.74163409],\n",
       "       [0.44660041, 0.55339959],\n",
       "       [0.23716237, 0.76283763],\n",
       "       [0.15206725, 0.84793275],\n",
       "       [0.73787994, 0.26212006],\n",
       "       [0.14458741, 0.85541259],\n",
       "       [0.62956262, 0.37043738],\n",
       "       [0.13175641, 0.86824359],\n",
       "       [0.13175641, 0.86824359],\n",
       "       [0.75653759, 0.24346241],\n",
       "       [0.62387592, 0.37612408],\n",
       "       [0.49736094, 0.50263906],\n",
       "       [0.58087123, 0.41912877],\n",
       "       [0.43134877, 0.56865123],\n",
       "       [0.19880628, 0.80119372],\n",
       "       [0.13175641, 0.86824359],\n",
       "       [0.54127734, 0.45872266],\n",
       "       [0.13776924, 0.86223076],\n",
       "       [0.62651731, 0.37348269],\n",
       "       [0.23457943, 0.76542057],\n",
       "       [0.22690965, 0.77309035],\n",
       "       [0.13125328, 0.86874672],\n",
       "       [0.63588605, 0.36411395],\n",
       "       [0.62651731, 0.37348269],\n",
       "       [0.13125328, 0.86874672],\n",
       "       [0.14458741, 0.85541259],\n",
       "       [0.4007801 , 0.5992199 ],\n",
       "       [0.64807248, 0.35192752],\n",
       "       [0.13125328, 0.86874672],\n",
       "       [0.1389133 , 0.8610867 ],\n",
       "       [0.14458741, 0.85541259],\n",
       "       [0.13776924, 0.86223076],\n",
       "       [0.13125328, 0.86874672],\n",
       "       [0.55610697, 0.44389303],\n",
       "       [0.43408863, 0.56591137],\n",
       "       [0.75329685, 0.24670315],\n",
       "       [0.62600339, 0.37399661],\n",
       "       [0.78697064, 0.21302936],\n",
       "       [0.21747826, 0.78252174],\n",
       "       [0.42385141, 0.57614859],\n",
       "       [0.5724093 , 0.4275907 ],\n",
       "       [0.14408427, 0.85591573],\n",
       "       [0.12555113, 0.87444887],\n",
       "       [0.21040079, 0.78959921],\n",
       "       [0.51388124, 0.48611876],\n",
       "       [0.13125328, 0.86874672],\n",
       "       [0.5562042 , 0.4437958 ],\n",
       "       [0.4140965 , 0.5859035 ],\n",
       "       [0.74761445, 0.25238555],\n",
       "       [0.44428549, 0.55571451],\n",
       "       [0.13996553, 0.86003447],\n",
       "       [0.51388124, 0.48611876],\n",
       "       [0.56004941, 0.43995059],\n",
       "       [0.52776296, 0.47223704],\n",
       "       [0.13125328, 0.86874672],\n",
       "       [0.42402837, 0.57597163],\n",
       "       [0.13996553, 0.86003447],\n",
       "       [0.56893148, 0.43106852],\n",
       "       [0.64807248, 0.35192752],\n",
       "       [0.56893616, 0.43106384],\n",
       "       [0.42664462, 0.57335538],\n",
       "       [0.42385141, 0.57614859],\n",
       "       [0.20478186, 0.79521814],\n",
       "       [0.56593097, 0.43406903],\n",
       "       [0.62956262, 0.37043738],\n",
       "       [0.28242437, 0.71757563],\n",
       "       [0.51388124, 0.48611876],\n",
       "       [0.73168953, 0.26831047],\n",
       "       [0.4140965 , 0.5859035 ],\n",
       "       [0.14268121, 0.85731879],\n",
       "       [0.14408427, 0.85591573],\n",
       "       [0.1470557 , 0.8529443 ],\n",
       "       [0.23165464, 0.76834536],\n",
       "       [0.75329685, 0.24670315],\n",
       "       [0.65050197, 0.34949803],\n",
       "       [0.57027217, 0.42972783],\n",
       "       [0.17418067, 0.82581933],\n",
       "       [0.22690965, 0.77309035],\n",
       "       [0.75329685, 0.24670315],\n",
       "       [0.75797919, 0.24202081],\n",
       "       [0.54387721, 0.45612279],\n",
       "       [0.13125328, 0.86874672],\n",
       "       [0.56537844, 0.43462156],\n",
       "       [0.7796823 , 0.2203177 ],\n",
       "       [0.21040079, 0.78959921],\n",
       "       [0.13125328, 0.86874672],\n",
       "       [0.14268121, 0.85731879],\n",
       "       [0.13175641, 0.86824359],\n",
       "       [0.45298691, 0.54701309],\n",
       "       [0.13689886, 0.86310114],\n",
       "       [0.25374257, 0.74625743],\n",
       "       [0.13689886, 0.86310114],\n",
       "       [0.13297229, 0.86702771],\n",
       "       [0.52513204, 0.47486796],\n",
       "       [0.13996553, 0.86003447],\n",
       "       [0.43408863, 0.56591137],\n",
       "       [0.52135037, 0.47864963],\n",
       "       [0.18793089, 0.81206911],\n",
       "       [0.78757641, 0.21242359],\n",
       "       [0.4390498 , 0.5609502 ],\n",
       "       [0.11984203, 0.88015797],\n",
       "       [0.13125328, 0.86874672],\n",
       "       [0.28242437, 0.71757563],\n",
       "       [0.13175641, 0.86824359],\n",
       "       [0.63219323, 0.36780677],\n",
       "       [0.13248174, 0.86751826],\n",
       "       [0.15206725, 0.84793275],\n",
       "       [0.11984203, 0.88015797],\n",
       "       [0.13689886, 0.86310114],\n",
       "       [0.18087908, 0.81912092],\n",
       "       [0.56893616, 0.43106384],\n",
       "       [0.49736094, 0.50263906],\n",
       "       [0.7796823 , 0.2203177 ],\n",
       "       [0.11984203, 0.88015797],\n",
       "       [0.13125328, 0.86874672],\n",
       "       [0.56893616, 0.43106384],\n",
       "       [0.42664462, 0.57335538],\n",
       "       [0.70281295, 0.29718705],\n",
       "       [0.62651731, 0.37348269],\n",
       "       [0.72998833, 0.27001167],\n",
       "       [0.49736094, 0.50263906],\n",
       "       [0.62651731, 0.37348269],\n",
       "       [0.78145717, 0.21854283],\n",
       "       [0.76131171, 0.23868829],\n",
       "       [0.62956262, 0.37043738],\n",
       "       [0.74248202, 0.25751798],\n",
       "       [0.13297229, 0.86702771],\n",
       "       [0.13248174, 0.86751826],\n",
       "       [0.27318172, 0.72681828],\n",
       "       [0.65140581, 0.34859419],\n",
       "       [0.13175641, 0.86824359],\n",
       "       [0.13175641, 0.86824359],\n",
       "       [0.46090366, 0.53909634],\n",
       "       [0.192943  , 0.807057  ],\n",
       "       [0.17418067, 0.82581933],\n",
       "       [0.58017447, 0.41982553],\n",
       "       [0.2175458 , 0.7824542 ],\n",
       "       [0.52776296, 0.47223704],\n",
       "       [0.53891709, 0.46108291],\n",
       "       [0.25416477, 0.74583523],\n",
       "       [0.13125328, 0.86874672],\n",
       "       [0.13447209, 0.86552791],\n",
       "       [0.62651731, 0.37348269],\n",
       "       [0.12555113, 0.87444887],\n",
       "       [0.52776296, 0.47223704],\n",
       "       [0.62956262, 0.37043738],\n",
       "       [0.4140965 , 0.5859035 ],\n",
       "       [0.13175641, 0.86824359],\n",
       "       [0.23828734, 0.76171266],\n",
       "       [0.56537844, 0.43462156],\n",
       "       [0.55910959, 0.44089041],\n",
       "       [0.13175641, 0.86824359],\n",
       "       [0.62956262, 0.37043738],\n",
       "       [0.49736094, 0.50263906],\n",
       "       [0.63292686, 0.36707314],\n",
       "       [0.49736094, 0.50263906],\n",
       "       [0.11984203, 0.88015797],\n",
       "       [0.25374257, 0.74625743],\n",
       "       [0.22690965, 0.77309035],\n",
       "       [0.11984203, 0.88015797],\n",
       "       [0.56593097, 0.43406903],\n",
       "       [0.52819114, 0.47180886],\n",
       "       [0.28242437, 0.71757563],\n",
       "       [0.52776296, 0.47223704],\n",
       "       [0.18793089, 0.81206911],\n",
       "       [0.17568047, 0.82431953],\n",
       "       [0.25966885, 0.74033115],\n",
       "       [0.56537844, 0.43462156],\n",
       "       [0.28242437, 0.71757563],\n",
       "       [0.11984203, 0.88015797],\n",
       "       [0.25457735, 0.74542265],\n",
       "       [0.56004941, 0.43995059],\n",
       "       [0.25457735, 0.74542265],\n",
       "       [0.13125328, 0.86874672],\n",
       "       [0.2596309 , 0.7403691 ],\n",
       "       [0.13776924, 0.86223076],\n",
       "       [0.47450313, 0.52549687],\n",
       "       [0.74568399, 0.25431601],\n",
       "       [0.13175641, 0.86824359],\n",
       "       [0.47512077, 0.52487923],\n",
       "       [0.62956262, 0.37043738],\n",
       "       [0.23457943, 0.76542057],\n",
       "       [0.44428549, 0.55571451],\n",
       "       [0.7840187 , 0.2159813 ],\n",
       "       [0.73725245, 0.26274755],\n",
       "       [0.13447209, 0.86552791],\n",
       "       [0.13125328, 0.86874672],\n",
       "       [0.74689174, 0.25310826],\n",
       "       [0.21549998, 0.78450002],\n",
       "       [0.25416477, 0.74583523],\n",
       "       [0.75329685, 0.24670315],\n",
       "       [0.19420492, 0.80579508],\n",
       "       [0.14012155, 0.85987845],\n",
       "       [0.74568399, 0.25431601],\n",
       "       [0.17800032, 0.82199968],\n",
       "       [0.58744639, 0.41255361],\n",
       "       [0.26446885, 0.73553115],\n",
       "       [0.13996553, 0.86003447],\n",
       "       [0.52819114, 0.47180886],\n",
       "       [0.25457735, 0.74542265],\n",
       "       [0.56650858, 0.43349142],\n",
       "       [0.52776296, 0.47223704],\n",
       "       [0.1346958 , 0.8653042 ],\n",
       "       [0.49736094, 0.50263906],\n",
       "       [0.60807629, 0.39192371],\n",
       "       [0.75653759, 0.24346241],\n",
       "       [0.12555113, 0.87444887],\n",
       "       [0.58650906, 0.41349094],\n",
       "       [0.77736739, 0.22263261],\n",
       "       [0.55910959, 0.44089041],\n",
       "       [0.591544  , 0.408456  ],\n",
       "       [0.13776924, 0.86223076],\n",
       "       [0.56593097, 0.43406903],\n",
       "       [0.56072588, 0.43927412],\n",
       "       [0.55388929, 0.44611071],\n",
       "       [0.52513204, 0.47486796],\n",
       "       [0.23932441, 0.76067559],\n",
       "       [0.75280186, 0.24719814],\n",
       "       [0.17418067, 0.82581933],\n",
       "       [0.17800032, 0.82199968],\n",
       "       [0.25374257, 0.74625743],\n",
       "       [0.18742775, 0.81257225],\n",
       "       [0.13125328, 0.86874672],\n",
       "       [0.62651731, 0.37348269],\n",
       "       [0.74568399, 0.25431601],\n",
       "       [0.13175641, 0.86824359],\n",
       "       [0.25457735, 0.74542265],\n",
       "       [0.13125328, 0.86874672],\n",
       "       [0.62651731, 0.37348269],\n",
       "       [0.38273248, 0.61726752],\n",
       "       [0.13248174, 0.86751826],\n",
       "       [0.20667082, 0.79332918],\n",
       "       [0.4140965 , 0.5859035 ],\n",
       "       [0.22690965, 0.77309035],\n",
       "       [0.13776924, 0.86223076],\n",
       "       [0.54127734, 0.45872266],\n",
       "       [0.5562042 , 0.4437958 ],\n",
       "       [0.75329685, 0.24670315],\n",
       "       [0.13125328, 0.86874672],\n",
       "       [0.76902342, 0.23097658],\n",
       "       [0.45557901, 0.54442099],\n",
       "       [0.13996553, 0.86003447],\n",
       "       [0.13175641, 0.86824359],\n",
       "       [0.11984203, 0.88015797],\n",
       "       [0.13248174, 0.86751826],\n",
       "       [0.13297229, 0.86702771],\n",
       "       [0.13447209, 0.86552791],\n",
       "       [0.53915579, 0.46084421],\n",
       "       [0.13175641, 0.86824359],\n",
       "       [0.61917693, 0.38082307],\n",
       "       [0.76902342, 0.23097658],\n",
       "       [0.62651731, 0.37348269],\n",
       "       [0.17800032, 0.82199968],\n",
       "       [0.62651731, 0.37348269],\n",
       "       [0.64670652, 0.35329348],\n",
       "       [0.23165464, 0.76834536],\n",
       "       [0.42664462, 0.57335538],\n",
       "       [0.42882411, 0.57117589],\n",
       "       [0.56537844, 0.43462156],\n",
       "       [0.56483854, 0.43516146],\n",
       "       [0.73240234, 0.26759766],\n",
       "       [0.53891709, 0.46108291],\n",
       "       [0.11984203, 0.88015797],\n",
       "       [0.13125328, 0.86874672],\n",
       "       [0.14300179, 0.85699821],\n",
       "       [0.13125328, 0.86874672],\n",
       "       [0.43408863, 0.56591137],\n",
       "       [0.14300179, 0.85699821],\n",
       "       [0.44660041, 0.55339959],\n",
       "       [0.63520098, 0.36479902],\n",
       "       [0.28441612, 0.71558388],\n",
       "       [0.14300179, 0.85699821],\n",
       "       [0.13125328, 0.86874672],\n",
       "       [0.43554221, 0.56445779],\n",
       "       [0.75653759, 0.24346241],\n",
       "       [0.11984203, 0.88015797],\n",
       "       [0.13776924, 0.86223076],\n",
       "       [0.14300179, 0.85699821],\n",
       "       [0.49663699, 0.50336301],\n",
       "       [0.7796823 , 0.2203177 ],\n",
       "       [0.13125328, 0.86874672],\n",
       "       [0.41641141, 0.58358859],\n",
       "       [0.13248174, 0.86751826],\n",
       "       [0.73240234, 0.26759766],\n",
       "       [0.182447  , 0.817553  ],\n",
       "       [0.11984203, 0.88015797],\n",
       "       [0.17800032, 0.82199968],\n",
       "       [0.156796  , 0.843204  ],\n",
       "       [0.43408863, 0.56591137],\n",
       "       [0.28242437, 0.71757563],\n",
       "       [0.56893616, 0.43106384],\n",
       "       [0.55388929, 0.44611071],\n",
       "       [0.21040079, 0.78959921],\n",
       "       [0.75340763, 0.24659237],\n",
       "       [0.42664462, 0.57335538],\n",
       "       [0.53632661, 0.46367339],\n",
       "       [0.13125328, 0.86874672],\n",
       "       [0.64384352, 0.35615648],\n",
       "       [0.49736094, 0.50263906]])"
      ]
     },
     "execution_count": 112,
     "metadata": {},
     "output_type": "execute_result"
    }
   ],
   "source": [
    "y_pred_proba = forest.predict_proba(x_train)\n",
    "y_pred_proba"
   ]
  },
  {
   "cell_type": "code",
   "execution_count": 113,
   "id": "cf9324ae",
   "metadata": {},
   "outputs": [
    {
     "name": "stdout",
     "output_type": "stream",
     "text": [
      "Accuracy of random forest classifier on training set: 0.85\n"
     ]
    }
   ],
   "source": [
    "print('Accuracy of random forest classifier on training set: {:.2f}'\n",
    "     .format(forest.score(x_train, y_train)))"
   ]
  },
  {
   "cell_type": "code",
   "execution_count": 114,
   "id": "fd576190",
   "metadata": {},
   "outputs": [
    {
     "name": "stdout",
     "output_type": "stream",
     "text": [
      "[[151  38]\n",
      " [ 39 270]]\n"
     ]
    }
   ],
   "source": [
    "cm = confusion_matrix(y_train, y_pred)\n",
    "print(cm)"
   ]
  },
  {
   "cell_type": "code",
   "execution_count": 115,
   "id": "b5854547",
   "metadata": {},
   "outputs": [
    {
     "data": {
      "image/png": "[encoded data removed]",
      "text/plain": [
       "<Figure size 432x288 with 2 Axes>"
      ]
     },
     "metadata": {
      "needs_background": "light"
     },
     "output_type": "display_data"
    }
   ],
   "source": [
    "disp = ConfusionMatrixDisplay(confusion_matrix=cm, display_labels=forest.classes_)\n",
    "\n",
    "disp.plot()\n",
    "plt.show()"
   ]
  },
  {
   "cell_type": "code",
   "execution_count": 116,
   "id": "bb7ed968",
   "metadata": {},
   "outputs": [
    {
     "name": "stdout",
     "output_type": "stream",
     "text": [
      "              precision    recall  f1-score   support\n",
      "\n",
      "       False       0.79      0.80      0.80       189\n",
      "        True       0.88      0.87      0.88       309\n",
      "\n",
      "    accuracy                           0.85       498\n",
      "   macro avg       0.84      0.84      0.84       498\n",
      "weighted avg       0.85      0.85      0.85       498\n",
      "\n"
     ]
    }
   ],
   "source": [
    "print(classification_report(y_train, y_pred))"
   ]
  },
  {
   "cell_type": "code",
   "execution_count": 117,
   "id": "004debd1",
   "metadata": {},
   "outputs": [
    {
     "name": "stdout",
     "output_type": "stream",
     "text": [
      "Accuracy of random forest classifier on validate set: 0.82\n"
     ]
    }
   ],
   "source": [
    "print('Accuracy of random forest classifier on validate set: {:.2f}'\n",
    "     .format(forest.score(x_validate, y_validate)))"
   ]
  },
  {
   "cell_type": "markdown",
   "id": "a574c3af",
   "metadata": {},
   "source": [
    "> Increasing min_samples_leaf and lowering max_depth lowers accuracy across the all values for my in-sample data\n",
    "\n",
    "> BUT the difference in accuracy on the validate set and train set with higher minimum samples per leaf and lower tree depth is much lower than previous iteration with min_samples_leaf = 1 and max_depth = 10\n",
    "\n",
    "> These new hyperparams are preferable and closer to accuracy with our validate set"
   ]
  },
  {
   "cell_type": "markdown",
   "id": "23cdad75",
   "metadata": {},
   "source": [
    "# KNN Exercises"
   ]
  },
  {
   "cell_type": "code",
   "execution_count": 122,
   "id": "b31206ad",
   "metadata": {},
   "outputs": [],
   "source": [
    "# ignore warnings\n",
    "import warnings\n",
    "warnings.filterwarnings(\"ignore\")\n",
    "\n",
    "import pandas as pd\n",
    "import numpy as np\n",
    "\n",
    "%matplotlib inline\n",
    "import matplotlib.pyplot as plt\n",
    "import seaborn as sns\n",
    "\n",
    "from sklearn.model_selection import train_test_split\n",
    "from sklearn.neighbors import KNeighborsClassifier\n",
    "from sklearn.metrics import classification_report\n",
    "from sklearn.metrics import confusion_matrix\n",
    "\n",
    "from pydataset import data"
   ]
  },
  {
   "cell_type": "code",
   "execution_count": 142,
   "id": "d50e5e35",
   "metadata": {},
   "outputs": [],
   "source": [
    "knn = KNeighborsClassifier(n_neighbors=20, weights='uniform')"
   ]
  },
  {
   "cell_type": "code",
   "execution_count": 143,
   "id": "36e440b4",
   "metadata": {},
   "outputs": [
    {
     "data": {
      "text/plain": [
       "KNeighborsClassifier(n_neighbors=20)"
      ]
     },
     "execution_count": 143,
     "metadata": {},
     "output_type": "execute_result"
    }
   ],
   "source": [
    "knn.fit(x_train, y_train)"
   ]
  },
  {
   "cell_type": "code",
   "execution_count": 144,
   "id": "9a4946fa",
   "metadata": {},
   "outputs": [],
   "source": [
    "y_pred = knn.predict(x_train)"
   ]
  },
  {
   "cell_type": "code",
   "execution_count": 145,
   "id": "680396a7",
   "metadata": {},
   "outputs": [],
   "source": [
    "y_pred_proba=knn.predict_proba(x_train)"
   ]
  },
  {
   "cell_type": "code",
   "execution_count": 146,
   "id": "d499ec21",
   "metadata": {},
   "outputs": [
    {
     "name": "stdout",
     "output_type": "stream",
     "text": [
      "Accuracy of KNN classifier on training set: 0.83\n"
     ]
    }
   ],
   "source": [
    "print('Accuracy of KNN classifier on training set: {:.2f}'\n",
    "     .format(knn.score(x_train, y_train)))\n"
   ]
  },
  {
   "cell_type": "code",
   "execution_count": 147,
   "id": "b5bd2922",
   "metadata": {},
   "outputs": [
    {
     "name": "stdout",
     "output_type": "stream",
     "text": [
      "[[156  33]\n",
      " [ 52 257]]\n"
     ]
    }
   ],
   "source": [
    "print(confusion_matrix(y_train, y_pred))\n"
   ]
  },
  {
   "cell_type": "code",
   "execution_count": 148,
   "id": "478ca016",
   "metadata": {},
   "outputs": [
    {
     "name": "stdout",
     "output_type": "stream",
     "text": [
      "              precision    recall  f1-score   support\n",
      "\n",
      "       False       0.75      0.83      0.79       189\n",
      "        True       0.89      0.83      0.86       309\n",
      "\n",
      "    accuracy                           0.83       498\n",
      "   macro avg       0.82      0.83      0.82       498\n",
      "weighted avg       0.83      0.83      0.83       498\n",
      "\n"
     ]
    }
   ],
   "source": [
    "print(classification_report(y_train, y_pred))\n"
   ]
  },
  {
   "cell_type": "code",
   "execution_count": 149,
   "id": "65144d59",
   "metadata": {},
   "outputs": [
    {
     "name": "stdout",
     "output_type": "stream",
     "text": [
      "Accuracy of KNN classifier on test set: 0.79\n"
     ]
    }
   ],
   "source": [
    "print('Accuracy of KNN classifier on test set: {:.2f}'\n",
    "     .format(knn.score(x_validate, y_validate)))"
   ]
  },
  {
   "cell_type": "code",
   "execution_count": 150,
   "id": "ca02e1df",
   "metadata": {},
   "outputs": [
    {
     "data": {
      "image/png": "[encoded data removed]",
      "text/plain": [
       "<Figure size 432x288 with 1 Axes>"
      ]
     },
     "metadata": {
      "needs_background": "light"
     },
     "output_type": "display_data"
    }
   ],
   "source": [
    "import matplotlib.pyplot as plt\n",
    "k_range = range(1, 20)\n",
    "scores = []\n",
    "for k in k_range:\n",
    "    knn = KNeighborsClassifier(n_neighbors = k)\n",
    "    knn.fit(x_train, y_train)\n",
    "    scores.append(knn.score(x_test, y_test))\n",
    "plt.figure()\n",
    "plt.xlabel('k')\n",
    "plt.ylabel('accuracy')\n",
    "plt.scatter(k_range, scores)\n",
    "plt.xticks([0,5,10,15,20])\n",
    "plt.show()\n"
   ]
  },
  {
   "cell_type": "code",
   "execution_count": null,
   "id": "8b9d8389",
   "metadata": {},
   "outputs": [],
   "source": []
  }
 ],
 "metadata": {
  "kernelspec": {
   "display_name": "Python 3 (ipykernel)",
   "language": "python",
   "name": "python3"
  },
  "language_info": {
   "codemirror_mode": {
    "name": "ipython",
    "version": 3
   },
   "file_extension": ".py",
   "mimetype": "text/x-python",
   "name": "python",
   "nbconvert_exporter": "python",
   "pygments_lexer": "ipython3",
   "version": "3.9.12"
  }
 },
 "nbformat": 4,
 "nbformat_minor": 5
}
